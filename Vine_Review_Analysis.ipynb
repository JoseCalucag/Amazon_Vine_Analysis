{
  "nbformat": 4,
  "nbformat_minor": 0,
  "metadata": {
    "colab": {
      "name": "Vine_Review_Analysis.ipynb",
      "provenance": [],
      "collapsed_sections": [],
      "authorship_tag": "ABX9TyOBFoVoYARB5fjvGYzyHerz"
    },
    "kernelspec": {
      "name": "python3",
      "display_name": "Python 3"
    }
  },
  "cells": [
    {
      "cell_type": "code",
      "metadata": {
        "colab": {
          "base_uri": "https://localhost:8080/"
        },
        "id": "o3YQJ6ux1Lai",
        "outputId": "d790faa0-067a-42d7-e4c4-8f4152bd5482"
      },
      "source": [
        "import os\n",
        "# Find the latest version of spark 2.0  from http://www-us.apache.org/dist/spark/ and enter as the spark version\n",
        "# For example:\n",
        "# spark_version = 'spark-3.0.0'\n",
        "spark_version = 'spark-3.0.1'\n",
        "os.environ['SPARK_VERSION']=spark_version\n",
        "\n",
        "# Install Spark and Java\n",
        "!apt-get update\n",
        "!apt-get install openjdk-11-jdk-headless -qq > /dev/null\n",
        "!wget -q http://www-us.apache.org/dist/spark/$SPARK_VERSION/$SPARK_VERSION-bin-hadoop2.7.tgz\n",
        "!tar xf $SPARK_VERSION-bin-hadoop2.7.tgz\n",
        "!pip install -q findspark\n",
        "\n",
        "# Set Environment Variables\n",
        "import os\n",
        "os.environ[\"JAVA_HOME\"] = \"/usr/lib/jvm/java-11-openjdk-amd64\"\n",
        "os.environ[\"SPARK_HOME\"] = f\"/content/{spark_version}-bin-hadoop2.7\"\n",
        "\n",
        "# Start a SparkSession\n",
        "import findspark\n",
        "findspark.init()"
      ],
      "execution_count": 1,
      "outputs": [
        {
          "output_type": "stream",
          "text": [
            "\r0% [Working]\r            \rGet:1 http://security.ubuntu.com/ubuntu bionic-security InRelease [88.7 kB]\n",
            "\r0% [Connecting to archive.ubuntu.com (91.189.88.142)] [1 InRelease 14.2 kB/88.7\r                                                                               \rHit:2 https://cloud.r-project.org/bin/linux/ubuntu bionic-cran40/ InRelease\n",
            "\r0% [Connecting to archive.ubuntu.com (91.189.88.142)] [1 InRelease 14.2 kB/88.7\r0% [2 InRelease gpgv 3,626 B] [Connecting to archive.ubuntu.com (91.189.88.142)\r                                                                               \rIgn:3 https://developer.download.nvidia.com/compute/cuda/repos/ubuntu1804/x86_64  InRelease\n",
            "\r0% [2 InRelease gpgv 3,626 B] [Connecting to archive.ubuntu.com (91.189.88.142)\r                                                                               \rIgn:4 https://developer.download.nvidia.com/compute/machine-learning/repos/ubuntu1804/x86_64  InRelease\n",
            "\r0% [2 InRelease gpgv 3,626 B] [Waiting for headers] [1 InRelease 43.1 kB/88.7 k\r                                                                               \rHit:5 https://developer.download.nvidia.com/compute/cuda/repos/ubuntu1804/x86_64  Release\n",
            "Hit:6 https://developer.download.nvidia.com/compute/machine-learning/repos/ubuntu1804/x86_64  Release\n",
            "Hit:7 http://archive.ubuntu.com/ubuntu bionic InRelease\n",
            "Hit:8 http://ppa.launchpad.net/c2d4u.team/c2d4u4.0+/ubuntu bionic InRelease\n",
            "Get:9 http://archive.ubuntu.com/ubuntu bionic-updates InRelease [88.7 kB]\n",
            "Hit:11 http://ppa.launchpad.net/graphics-drivers/ppa/ubuntu bionic InRelease\n",
            "Get:13 http://archive.ubuntu.com/ubuntu bionic-backports InRelease [74.6 kB]\n",
            "Fetched 252 kB in 2s (143 kB/s)\n",
            "Reading package lists... Done\n"
          ],
          "name": "stdout"
        }
      ]
    },
    {
      "cell_type": "code",
      "metadata": {
        "id": "ZcKBdV3P1MGZ"
      },
      "source": [
        "#Start SparkSession\n",
        "\n",
        "from pyspark.sql import SparkSession\n",
        "spark = SparkSession.builder.appName(\"BigData-Challenge\").config(\"spark.driver.extraClassPath\",\"/content/postgresql-42.2.16.jar\").getOrCreate()"
      ],
      "execution_count": 2,
      "outputs": []
    },
    {
      "cell_type": "code",
      "metadata": {
        "colab": {
          "base_uri": "https://localhost:8080/"
        },
        "id": "k1wkbSpv2OiT",
        "outputId": "a53d6287-912d-4125-f191-279c2f5c4242"
      },
      "source": [
        "# Read in data into DataFrame\n",
        "\n",
        "from pyspark import SparkFiles\n",
        "url = \"https://s3.amazonaws.com/amazon-reviews-pds/tsv/amazon_reviews_us_Digital_Music_Purchase_v1_00.tsv.gz\"\n",
        "spark.sparkContext.addFile(url)\n",
        "df = spark.read.option(\"encoding\", \"UTF-8\").csv(SparkFiles.get(\"\"), sep=\"\\t\", header=True, inferSchema=True)\n",
        "df.show()"
      ],
      "execution_count": 3,
      "outputs": [
        {
          "output_type": "stream",
          "text": [
            "+-----------+-----------+--------------+----------+--------------+--------------------+--------------------+-----------+-------------+-----------+----+-----------------+--------------------+--------------------+-----------+\n",
            "|marketplace|customer_id|     review_id|product_id|product_parent|       product_title|    product_category|star_rating|helpful_votes|total_votes|vine|verified_purchase|     review_headline|         review_body|review_date|\n",
            "+-----------+-----------+--------------+----------+--------------+--------------------+--------------------+-----------+-------------+-----------+----+-----------------+--------------------+--------------------+-----------+\n",
            "|         US|   10293599|R14LVB34Z2Z53I|B000YMOQZY|     262935067|Knockin' On Heave...|Digital_Music_Pur...|          5|            0|          0|   N|                Y|           favorites|Great  rendition....| 2015-08-31|\n",
            "|         US|    6087195|R2M0R9CWPC82LT|B00ISAEC80|     452318038|            Flawless|Digital_Music_Pur...|          5|            0|          0|   N|                Y|          Five Stars|A good music to l...| 2015-08-31|\n",
            "|         US|   33717063| RQNQI2R3BM52A|B00VBB6AVU|     675969129|    Scandal of Grace|Digital_Music_Pur...|          4|            0|          0|   N|                Y|                Good|Not as good as th...| 2015-08-31|\n",
            "|         US|   14948020| RTUIX1135HUAB|B008A5POJO|     282925893|  I Surrender (Live)|Digital_Music_Pur...|          5|            0|          0|   N|                Y|Wonderful lyrics!...|Time to worship a...| 2015-08-31|\n",
            "|         US|   21694522| RE3QSAT8TL010|B014CW2RN4|     109077793|We Are Young (Jer...|Digital_Music_Pur...|          4|            0|          0|   N|                Y|Hot remix but too...|So this should be...| 2015-08-31|\n",
            "|         US|   14948020|R14TN65IY0NUOD|B00DRA3EOY|     959245080|        Lord, I Live|Digital_Music_Pur...|          5|            0|          0|   N|                Y|          Five Stars|Clint Brown is an...| 2015-08-31|\n",
            "|         US|   20031966|R3LIF8MCNH1ODF|B009G3U0PW|     762436916|  I'll Never Be Free|Digital_Music_Pur...|          5|            0|          0|   N|                Y|\"I'll never be fr...|LaVerne Butler is...| 2015-08-31|\n",
            "|         US|   12223745|R33X0DGA4PPQ3L|B013XBYQOS|     137980344|    All of the Stars|Digital_Music_Pur...|          5|            3|          3|   N|                N| long awaited treat!|For some reason I...| 2015-08-31|\n",
            "|         US|   30231876|R2DJJP7DQRT1ZW|B003L5H25W|     165995375|Exile On Main Str...|Digital_Music_Pur...|          5|            0|          1|   N|                Y|          Five Stars|The Stones at the...| 2015-08-31|\n",
            "|         US|   51714365|R2A8XDXW5XOT4H|B00136NVH4|     227508666|     Bat Out Of Hell|Digital_Music_Pur...|          5|            0|          0|   N|                Y|    Transcends Time.|    Simply the best.| 2015-08-31|\n",
            "|         US|   37216001|R3MJK3L7ER61TT|B0030AKPQ6|     164096943|Stronger Than Her...|Digital_Music_Pur...|          5|            0|          0|   N|                N|I Love The Flirta...|A very early hit ...| 2015-08-31|\n",
            "|         US|   49207156|R38Z7XMCVDR0R5|B014EQE0V0|     714368268|You Hold It All (...|Digital_Music_Pur...|          5|            1|          1|   N|                Y|          Five Stars|Inspired by this ...| 2015-08-31|\n",
            "|         US|    2472364|R3FFESBQXPR7S6|B00USW4ZVU|      50310906|   Pressure - Single|Digital_Music_Pur...|          4|            0|          0|   N|                Y|Talented new gosp...|Great new artist....| 2015-08-31|\n",
            "|         US|   22612468|R3QO6Z942CKH34|B00ZZDJAX0|     162295903|What Are The Chan...|Digital_Music_Pur...|          5|            1|          1|   N|                Y|        Awesome song|Great song off th...| 2015-08-31|\n",
            "|         US|    2254795|R297119MDWMG9P|B014DIWONU|      44838453|Beauty Behind The...|Digital_Music_Pur...|          5|            0|          0|   N|                Y|I love every song...|The weeknd is a m...| 2015-08-31|\n",
            "|         US|   12408664| R7EJRSXIXMLIY|B005DPTQNE|     454271984|It's The Huck-A-B...|Digital_Music_Pur...|          5|            0|          0|   N|                Y|          Five Stars|       Sounds great!| 2015-08-31|\n",
            "|         US|   36236254|R2EBGPZD0B3TSV|B004LI9ATO|     519024911|  Two Purple Shadows|Digital_Music_Pur...|          5|            0|          0|   N|                N|An oldie,,, but i...|An oldie , , , bu...| 2015-08-31|\n",
            "|         US|   10456004|R229VSSFBNB90C|B00984QCM4|     647155979|         Consolation|Digital_Music_Pur...|          5|            0|          0|   N|                Y|          Five Stars|               great| 2015-08-31|\n",
            "|         US|   16822806|R12YCDYTDBJH3X|B00ZKCAK4O|     346522639|One Man Army [Exp...|Digital_Music_Pur...|          5|            0|          0|   N|                Y|One Man Army! Dow...|Real Sh*t Right H...| 2015-08-31|\n",
            "|         US|   30704319|R3DEVUNGQ2Y98S|B014GWCW8K|     260814213|Without You (feat...|Digital_Music_Pur...|          5|            0|          0|   N|                Y|          Five Stars|      Press Forward!| 2015-08-31|\n",
            "+-----------+-----------+--------------+----------+--------------+--------------------+--------------------+-----------+-------------+-----------+----+-----------------+--------------------+--------------------+-----------+\n",
            "only showing top 20 rows\n",
            "\n"
          ],
          "name": "stdout"
        }
      ]
    },
    {
      "cell_type": "code",
      "metadata": {
        "colab": {
          "base_uri": "https://localhost:8080/"
        },
        "id": "gbIv2m0K2csc",
        "outputId": "57a7288c-3d1f-4d4c-ce12-d0dc6b85cbd5"
      },
      "source": [
        "# Filter and Create a new DataFrame to retrieve all the rows where total_votes count is equal to or greater than 20\n",
        "\n",
        "vote_count20 = df.filter(\"total_votes >= 20\")\n",
        "vote_count20.show()"
      ],
      "execution_count": 4,
      "outputs": [
        {
          "output_type": "stream",
          "text": [
            "+-----------+-----------+--------------+----------+--------------+--------------------+--------------------+-----------+-------------+-----------+----+-----------------+--------------------+--------------------+-----------+\n",
            "|marketplace|customer_id|     review_id|product_id|product_parent|       product_title|    product_category|star_rating|helpful_votes|total_votes|vine|verified_purchase|     review_headline|         review_body|review_date|\n",
            "+-----------+-----------+--------------+----------+--------------+--------------------+--------------------+-----------+-------------+-----------+----+-----------------+--------------------+--------------------+-----------+\n",
            "|         US|   21585599|R1S0N56H5B9SUX|B00ZQKVD4Q|     550273770|        Live in Cuba|Digital_Music_Pur...|          5|           30|         30|   N|                Y|Excellent Jazz album|Excellent album. ...| 2015-08-31|\n",
            "|         US|   16227164| RCDI7Z8VCZJI9|B00YHTO1HS|     771772746|Badlands (Deluxe)...|Digital_Music_Pur...|          4|           40|         43|   N|                N|This Is What Owni...|I first heard Hal...| 2015-08-28|\n",
            "|         US|   51840199|R3F4225VTUO2WE|B00YI4B79W|     772368695|             Meliora|Digital_Music_Pur...|          1|            8|         33|   N|                N|Sounds like a Gra...|It is now exactly...| 2015-08-28|\n",
            "|         US|    2343013|  R3ADPNURCCTK|B0108UOO7Q|     915620099|Immortalized [Exp...|Digital_Music_Pur...|          1|            1|         39|   N|                N|            One Star|I was the biggest...| 2015-08-27|\n",
            "|         US|   13189348|R2LWBYC8TEUVF2|B00ZF3SIDI|     565883355|Nathaniel Ratelif...|Digital_Music_Pur...|          5|           50|         53|   N|                Y|Amazing! I discov...|Amazing!<br /><br...| 2015-08-26|\n",
            "|         US|   42571467|R23E4EIJXID5IC|B00PJUM34M|     736481072|   We Shall Overcome|Digital_Music_Pur...|          5|           43|         43|   N|                N|It's no \"Dark Sid...|If you put the al...| 2015-08-26|\n",
            "|         US|   13113713|R1WFSWDT8L5RSJ|B012JM8L6G|     881736409|     Burning Bridges|Digital_Music_Pur...|          4|           23|         26|   N|                N|Better than I exp...|Bon Jovi had a ro...| 2015-08-25|\n",
            "|         US|   43249739|R37LMHN02KOER1|B013L23ADM|     564719434|Just One Look: Cl...|Digital_Music_Pur...|          5|           50|         50|   N|                N|      Linda Times 30|Her millions of f...| 2015-08-25|\n",
            "|         US|   49116462|R297QI4VU3LMY6|B00YI4B79W|     772368695|             Meliora|Digital_Music_Pur...|          4|           41|         50|   N|                N|Not A Review For ...|So here's the thi...| 2015-08-24|\n",
            "|         US|   46942146| RGNU1L1XFX33B|B012JM8L6G|     881736409|     Burning Bridges|Digital_Music_Pur...|          3|           34|         35|   N|                N|and weren't good ...|If you look at an...| 2015-08-24|\n",
            "|         US|   14708731|R2NPE00F48X0ET|B00YI4B79W|     772368695|             Meliora|Digital_Music_Pur...|          5|           22|         27|   N|                N|From the Pinnacle...|Bands that wholly...| 2015-08-24|\n",
            "|         US|   13189971| RSPQFPJ4ISKS3|B00YI4B79W|     772368695|             Meliora|Digital_Music_Pur...|          5|           32|         35|   N|                Y|   I Love This Album|It's hard to know...| 2015-08-24|\n",
            "|         US|   49608184|R3U75LKYXVWRG8|B010XN0IQO|     818607997|As Family We Go (...|Digital_Music_Pur...|          3|           18|         23|   N|                Y|There must be a r...|Why does almost a...| 2015-08-23|\n",
            "|         US|   49907247|R2Z6WUTQEXJWCR|B0108UOO7Q|     915620099|Immortalized [Exp...|Digital_Music_Pur...|          5|           18|         20|   N|                Y|And the Heavy Met...|Immortalized is t...| 2015-08-23|\n",
            "|         US|    7487669|R140Z5HP12GL1E|B010S37LDM|     655317938|        High Country|Digital_Music_Pur...|          5|           47|         56|   N|                Y|A much better exp...|'High Country' is...| 2015-08-22|\n",
            "|         US|   49807829|R2WSVH9IPUO014|B013XBYSE6|     379064655|    All of the Stars|Digital_Music_Pur...|          1|            2|         37|   N|                N|          Sickening.|This is the worst...| 2015-08-22|\n",
            "|         US|   17026247|R25Q6S82PO8PHG|B0125KDCES|     826839790|The Oblivion Part...|Digital_Music_Pur...|          5|           23|         28|   N|                Y|If you liked the ...|SPOCK'S BEARD RET...| 2015-08-21|\n",
            "|         US|   17766147|R3HDJJN7YXFSYX|B0108UP3A8|     915620099|Immortalized (Del...|Digital_Music_Pur...|          1|            4|         58|   N|                N|SAME ALL BORING S...|DOWN TO THE BONE!...| 2015-08-21|\n",
            "|         US|   14929324|R18VNEEQLPQPPO|B00ZF3SIDI|     565883355|Nathaniel Ratelif...|Digital_Music_Pur...|          5|          146|        153|   N|                Y|Fun!  A must purc...|So there I am doz...| 2015-08-21|\n",
            "|         US|   14504100|R2KTDZKWNKNXPE|B013XBYSE6|     379064655|    All of the Stars|Digital_Music_Pur...|          5|           20|         22|   N|                Y|A meaningful song...|On this cover of ...| 2015-08-21|\n",
            "+-----------+-----------+--------------+----------+--------------+--------------------+--------------------+-----------+-------------+-----------+----+-----------------+--------------------+--------------------+-----------+\n",
            "only showing top 20 rows\n",
            "\n"
          ],
          "name": "stdout"
        }
      ]
    },
    {
      "cell_type": "code",
      "metadata": {
        "colab": {
          "base_uri": "https://localhost:8080/"
        },
        "id": "Sk-ENNzk8Ihe",
        "outputId": "037034e6-7308-4437-d453-9c2debea2764"
      },
      "source": [
        "# Create a DataFrame to retrieve all the rows that have more than 20 total votes\n",
        "# and where helpful_votes divided by total_votes is equal to or greater than 50%.\n",
        "\n",
        "HelpOverTotal = vote_count20.filter(vote_count20[\"helpful_votes\"]/vote_count20[\"total_votes\"]>=0.5)\n",
        "HelpOverTotal.show()"
      ],
      "execution_count": 5,
      "outputs": [
        {
          "output_type": "stream",
          "text": [
            "+-----------+-----------+--------------+----------+--------------+--------------------+--------------------+-----------+-------------+-----------+----+-----------------+--------------------+--------------------+-----------+\n",
            "|marketplace|customer_id|     review_id|product_id|product_parent|       product_title|    product_category|star_rating|helpful_votes|total_votes|vine|verified_purchase|     review_headline|         review_body|review_date|\n",
            "+-----------+-----------+--------------+----------+--------------+--------------------+--------------------+-----------+-------------+-----------+----+-----------------+--------------------+--------------------+-----------+\n",
            "|         US|   21585599|R1S0N56H5B9SUX|B00ZQKVD4Q|     550273770|        Live in Cuba|Digital_Music_Pur...|          5|           30|         30|   N|                Y|Excellent Jazz album|Excellent album. ...| 2015-08-31|\n",
            "|         US|   16227164| RCDI7Z8VCZJI9|B00YHTO1HS|     771772746|Badlands (Deluxe)...|Digital_Music_Pur...|          4|           40|         43|   N|                N|This Is What Owni...|I first heard Hal...| 2015-08-28|\n",
            "|         US|   13189348|R2LWBYC8TEUVF2|B00ZF3SIDI|     565883355|Nathaniel Ratelif...|Digital_Music_Pur...|          5|           50|         53|   N|                Y|Amazing! I discov...|Amazing!<br /><br...| 2015-08-26|\n",
            "|         US|   42571467|R23E4EIJXID5IC|B00PJUM34M|     736481072|   We Shall Overcome|Digital_Music_Pur...|          5|           43|         43|   N|                N|It's no \"Dark Sid...|If you put the al...| 2015-08-26|\n",
            "|         US|   13113713|R1WFSWDT8L5RSJ|B012JM8L6G|     881736409|     Burning Bridges|Digital_Music_Pur...|          4|           23|         26|   N|                N|Better than I exp...|Bon Jovi had a ro...| 2015-08-25|\n",
            "|         US|   43249739|R37LMHN02KOER1|B013L23ADM|     564719434|Just One Look: Cl...|Digital_Music_Pur...|          5|           50|         50|   N|                N|      Linda Times 30|Her millions of f...| 2015-08-25|\n",
            "|         US|   49116462|R297QI4VU3LMY6|B00YI4B79W|     772368695|             Meliora|Digital_Music_Pur...|          4|           41|         50|   N|                N|Not A Review For ...|So here's the thi...| 2015-08-24|\n",
            "|         US|   46942146| RGNU1L1XFX33B|B012JM8L6G|     881736409|     Burning Bridges|Digital_Music_Pur...|          3|           34|         35|   N|                N|and weren't good ...|If you look at an...| 2015-08-24|\n",
            "|         US|   14708731|R2NPE00F48X0ET|B00YI4B79W|     772368695|             Meliora|Digital_Music_Pur...|          5|           22|         27|   N|                N|From the Pinnacle...|Bands that wholly...| 2015-08-24|\n",
            "|         US|   13189971| RSPQFPJ4ISKS3|B00YI4B79W|     772368695|             Meliora|Digital_Music_Pur...|          5|           32|         35|   N|                Y|   I Love This Album|It's hard to know...| 2015-08-24|\n",
            "|         US|   49608184|R3U75LKYXVWRG8|B010XN0IQO|     818607997|As Family We Go (...|Digital_Music_Pur...|          3|           18|         23|   N|                Y|There must be a r...|Why does almost a...| 2015-08-23|\n",
            "|         US|   49907247|R2Z6WUTQEXJWCR|B0108UOO7Q|     915620099|Immortalized [Exp...|Digital_Music_Pur...|          5|           18|         20|   N|                Y|And the Heavy Met...|Immortalized is t...| 2015-08-23|\n",
            "|         US|    7487669|R140Z5HP12GL1E|B010S37LDM|     655317938|        High Country|Digital_Music_Pur...|          5|           47|         56|   N|                Y|A much better exp...|'High Country' is...| 2015-08-22|\n",
            "|         US|   17026247|R25Q6S82PO8PHG|B0125KDCES|     826839790|The Oblivion Part...|Digital_Music_Pur...|          5|           23|         28|   N|                Y|If you liked the ...|SPOCK'S BEARD RET...| 2015-08-21|\n",
            "|         US|   14929324|R18VNEEQLPQPPO|B00ZF3SIDI|     565883355|Nathaniel Ratelif...|Digital_Music_Pur...|          5|          146|        153|   N|                Y|Fun!  A must purc...|So there I am doz...| 2015-08-21|\n",
            "|         US|   14504100|R2KTDZKWNKNXPE|B013XBYSE6|     379064655|    All of the Stars|Digital_Music_Pur...|          5|           20|         22|   N|                Y|A meaningful song...|On this cover of ...| 2015-08-21|\n",
            "|         US|   44131062|R1T2DZ27VMFSDV|B013XBYSE6|     379064655|    All of the Stars|Digital_Music_Pur...|          5|           18|         21|   N|                N|Jackie does it ag...|This song is a mu...| 2015-08-21|\n",
            "|         US|   17493933|R1L9S1598FPFFG|B0108UP3A8|     915620099|Immortalized (Del...|Digital_Music_Pur...|          5|           28|         33|   N|                Y|Fantastic Return ...|A fantastic retur...| 2015-08-21|\n",
            "|         US|   21644414|R1C9BQD9AA2C76|B0108UP3A8|     915620099|Immortalized (Del...|Digital_Music_Pur...|          5|           50|         53|   N|                Y|Killer Comeback f...|Excellent come ba...| 2015-08-21|\n",
            "|         US|   52912029| RXNMSLZ3KAT95|B00PJUM34M|     736481072|   We Shall Overcome|Digital_Music_Pur...|          5|           24|         25|   N|                Y|This is THE messa...|We have here an e...| 2015-08-21|\n",
            "+-----------+-----------+--------------+----------+--------------+--------------------+--------------------+-----------+-------------+-----------+----+-----------------+--------------------+--------------------+-----------+\n",
            "only showing top 20 rows\n",
            "\n"
          ],
          "name": "stdout"
        }
      ]
    },
    {
      "cell_type": "code",
      "metadata": {
        "colab": {
          "base_uri": "https://localhost:8080/"
        },
        "id": "kmVr3GBn9mYy",
        "outputId": "139148cd-d132-47bb-a42f-832fc08312fb"
      },
      "source": [
        "#Create a DataFrame that retrieves all the rows where there was atleast 20 votes, at least 50% helpful and\n",
        "# a review was written as part of the Vine program (paid), vine == 'Y'\n",
        "\n",
        "VineTableY = HelpOverTotal.filter(HelpOverTotal[\"vine\"] == \"Y\")\n",
        "VineTableY.show()"
      ],
      "execution_count": 6,
      "outputs": [
        {
          "output_type": "stream",
          "text": [
            "+-----------+-----------+---------+----------+--------------+-------------+----------------+-----------+-------------+-----------+----+-----------------+---------------+-----------+-----------+\n",
            "|marketplace|customer_id|review_id|product_id|product_parent|product_title|product_category|star_rating|helpful_votes|total_votes|vine|verified_purchase|review_headline|review_body|review_date|\n",
            "+-----------+-----------+---------+----------+--------------+-------------+----------------+-----------+-------------+-----------+----+-----------------+---------------+-----------+-----------+\n",
            "+-----------+-----------+---------+----------+--------------+-------------+----------------+-----------+-------------+-----------+----+-----------------+---------------+-----------+-----------+\n",
            "\n"
          ],
          "name": "stdout"
        }
      ]
    },
    {
      "cell_type": "code",
      "metadata": {
        "colab": {
          "base_uri": "https://localhost:8080/"
        },
        "id": "gQlRR8WW_xlS",
        "outputId": "5e6565f5-6f58-457f-8981-de76c1303dff"
      },
      "source": [
        "#Create a DataFrame that retrieves all the rows where there was atleast 20 votes, at least 50% helpful and\n",
        "# a review was written as part of the Vine program (unpaid), vine == 'N'\n",
        "\n",
        "VineTableN = HelpOverTotal.filter(HelpOverTotal[\"vine\"] == \"N\")\n",
        "VineTableN.show()"
      ],
      "execution_count": 7,
      "outputs": [
        {
          "output_type": "stream",
          "text": [
            "+-----------+-----------+--------------+----------+--------------+--------------------+--------------------+-----------+-------------+-----------+----+-----------------+--------------------+--------------------+-----------+\n",
            "|marketplace|customer_id|     review_id|product_id|product_parent|       product_title|    product_category|star_rating|helpful_votes|total_votes|vine|verified_purchase|     review_headline|         review_body|review_date|\n",
            "+-----------+-----------+--------------+----------+--------------+--------------------+--------------------+-----------+-------------+-----------+----+-----------------+--------------------+--------------------+-----------+\n",
            "|         US|   21585599|R1S0N56H5B9SUX|B00ZQKVD4Q|     550273770|        Live in Cuba|Digital_Music_Pur...|          5|           30|         30|   N|                Y|Excellent Jazz album|Excellent album. ...| 2015-08-31|\n",
            "|         US|   16227164| RCDI7Z8VCZJI9|B00YHTO1HS|     771772746|Badlands (Deluxe)...|Digital_Music_Pur...|          4|           40|         43|   N|                N|This Is What Owni...|I first heard Hal...| 2015-08-28|\n",
            "|         US|   13189348|R2LWBYC8TEUVF2|B00ZF3SIDI|     565883355|Nathaniel Ratelif...|Digital_Music_Pur...|          5|           50|         53|   N|                Y|Amazing! I discov...|Amazing!<br /><br...| 2015-08-26|\n",
            "|         US|   42571467|R23E4EIJXID5IC|B00PJUM34M|     736481072|   We Shall Overcome|Digital_Music_Pur...|          5|           43|         43|   N|                N|It's no \"Dark Sid...|If you put the al...| 2015-08-26|\n",
            "|         US|   13113713|R1WFSWDT8L5RSJ|B012JM8L6G|     881736409|     Burning Bridges|Digital_Music_Pur...|          4|           23|         26|   N|                N|Better than I exp...|Bon Jovi had a ro...| 2015-08-25|\n",
            "|         US|   43249739|R37LMHN02KOER1|B013L23ADM|     564719434|Just One Look: Cl...|Digital_Music_Pur...|          5|           50|         50|   N|                N|      Linda Times 30|Her millions of f...| 2015-08-25|\n",
            "|         US|   49116462|R297QI4VU3LMY6|B00YI4B79W|     772368695|             Meliora|Digital_Music_Pur...|          4|           41|         50|   N|                N|Not A Review For ...|So here's the thi...| 2015-08-24|\n",
            "|         US|   46942146| RGNU1L1XFX33B|B012JM8L6G|     881736409|     Burning Bridges|Digital_Music_Pur...|          3|           34|         35|   N|                N|and weren't good ...|If you look at an...| 2015-08-24|\n",
            "|         US|   14708731|R2NPE00F48X0ET|B00YI4B79W|     772368695|             Meliora|Digital_Music_Pur...|          5|           22|         27|   N|                N|From the Pinnacle...|Bands that wholly...| 2015-08-24|\n",
            "|         US|   13189971| RSPQFPJ4ISKS3|B00YI4B79W|     772368695|             Meliora|Digital_Music_Pur...|          5|           32|         35|   N|                Y|   I Love This Album|It's hard to know...| 2015-08-24|\n",
            "|         US|   49608184|R3U75LKYXVWRG8|B010XN0IQO|     818607997|As Family We Go (...|Digital_Music_Pur...|          3|           18|         23|   N|                Y|There must be a r...|Why does almost a...| 2015-08-23|\n",
            "|         US|   49907247|R2Z6WUTQEXJWCR|B0108UOO7Q|     915620099|Immortalized [Exp...|Digital_Music_Pur...|          5|           18|         20|   N|                Y|And the Heavy Met...|Immortalized is t...| 2015-08-23|\n",
            "|         US|    7487669|R140Z5HP12GL1E|B010S37LDM|     655317938|        High Country|Digital_Music_Pur...|          5|           47|         56|   N|                Y|A much better exp...|'High Country' is...| 2015-08-22|\n",
            "|         US|   17026247|R25Q6S82PO8PHG|B0125KDCES|     826839790|The Oblivion Part...|Digital_Music_Pur...|          5|           23|         28|   N|                Y|If you liked the ...|SPOCK'S BEARD RET...| 2015-08-21|\n",
            "|         US|   14929324|R18VNEEQLPQPPO|B00ZF3SIDI|     565883355|Nathaniel Ratelif...|Digital_Music_Pur...|          5|          146|        153|   N|                Y|Fun!  A must purc...|So there I am doz...| 2015-08-21|\n",
            "|         US|   14504100|R2KTDZKWNKNXPE|B013XBYSE6|     379064655|    All of the Stars|Digital_Music_Pur...|          5|           20|         22|   N|                Y|A meaningful song...|On this cover of ...| 2015-08-21|\n",
            "|         US|   44131062|R1T2DZ27VMFSDV|B013XBYSE6|     379064655|    All of the Stars|Digital_Music_Pur...|          5|           18|         21|   N|                N|Jackie does it ag...|This song is a mu...| 2015-08-21|\n",
            "|         US|   17493933|R1L9S1598FPFFG|B0108UP3A8|     915620099|Immortalized (Del...|Digital_Music_Pur...|          5|           28|         33|   N|                Y|Fantastic Return ...|A fantastic retur...| 2015-08-21|\n",
            "|         US|   21644414|R1C9BQD9AA2C76|B0108UP3A8|     915620099|Immortalized (Del...|Digital_Music_Pur...|          5|           50|         53|   N|                Y|Killer Comeback f...|Excellent come ba...| 2015-08-21|\n",
            "|         US|   52912029| RXNMSLZ3KAT95|B00PJUM34M|     736481072|   We Shall Overcome|Digital_Music_Pur...|          5|           24|         25|   N|                Y|This is THE messa...|We have here an e...| 2015-08-21|\n",
            "+-----------+-----------+--------------+----------+--------------+--------------------+--------------------+-----------+-------------+-----------+----+-----------------+--------------------+--------------------+-----------+\n",
            "only showing top 20 rows\n",
            "\n"
          ],
          "name": "stdout"
        }
      ]
    },
    {
      "cell_type": "code",
      "metadata": {
        "colab": {
          "base_uri": "https://localhost:8080/"
        },
        "id": "p7cXq34ACeqL",
        "outputId": "7411ad39-bb2b-47ad-ca84-877637e42040"
      },
      "source": [
        "# Total Count of reviews \n",
        "TotCount = df.count()\n",
        "print(f\"There are {TotCount} reviews.\")\n",
        "\n",
        "# Total Count of 5 star reviews\n",
        "Count_5star = df.filter(df[\"star_rating\"]== 5).count()\n",
        "print(f\"There are {Count_5star} 5 star reviews.\")"
      ],
      "execution_count": 8,
      "outputs": [
        {
          "output_type": "stream",
          "text": [
            "There are 1688884 reviews.\n",
            "There are 1345146 5 star reviews.\n"
          ],
          "name": "stdout"
        }
      ]
    },
    {
      "cell_type": "code",
      "metadata": {
        "id": "X2dMlZkAeVel"
      },
      "source": [
        "# Creating DataFrame for 5 star reviews\n",
        "five_star = df.filter(df[\"star_rating\"]== 5)"
      ],
      "execution_count": 9,
      "outputs": []
    },
    {
      "cell_type": "code",
      "metadata": {
        "colab": {
          "base_uri": "https://localhost:8080/"
        },
        "id": "dscGiIeoD5ab",
        "outputId": "7e9c0598-a9fc-4e1d-848d-6c09c28d7b93"
      },
      "source": [
        "# percentage of five star paid reviews\n",
        "FiveStarPaid = five_star.filter(five_star[\"vine\"] == \"Y\").count()/df.count()\n",
        "print(f\"The percentage of 5 star reviews is {FiveStarPaid}.\")\n",
        "\n",
        "# percentage of five start unpaid reviews\n",
        "FiveStarUnP= five_star.filter(five_star[\"vine\"] == \"N\").count()/df.count()\n",
        "print(f\"The percentage of non 5 star reviews is {FiveStarUnP}.\")"
      ],
      "execution_count": 10,
      "outputs": [
        {
          "output_type": "stream",
          "text": [
            "The percentage of 5 star reviews is 0.0.\n",
            "The percentage of non 5 star reviews is 0.7964703318878028.\n"
          ],
          "name": "stdout"
        }
      ]
    },
    {
      "cell_type": "code",
      "metadata": {
        "id": "eaCiMonucVXF"
      },
      "source": [
        "# Deliverable 3"
      ],
      "execution_count": 11,
      "outputs": []
    },
    {
      "cell_type": "code",
      "metadata": {
        "colab": {
          "base_uri": "https://localhost:8080/"
        },
        "id": "i2HUX_yVhfTh",
        "outputId": "fa0c45c4-7bc2-4e02-a5ec-8763dc15714f"
      },
      "source": [
        "# How many Vine reviews and non-Vine reviews were there?\n",
        "Vine = df.filter(df[\"vine\"] == \"Y\").count()\n",
        "print(f\"There are {Vine} Vine reviews.\")\n",
        "\n",
        "NonVine = df.filter(df[\"vine\"] == \"N\").count()\n",
        "print(f\"There are {NonVine} non-Vine reviews.\")"
      ],
      "execution_count": 12,
      "outputs": [
        {
          "output_type": "stream",
          "text": [
            "There are 0 Vine reviews.\n",
            "There are 1688881 non-Vine reviews.\n"
          ],
          "name": "stdout"
        }
      ]
    },
    {
      "cell_type": "code",
      "metadata": {
        "colab": {
          "base_uri": "https://localhost:8080/"
        },
        "id": "kR3c02tBh1Tx",
        "outputId": "5170f03f-44f7-4f62-d59f-b90d70cc94de"
      },
      "source": [
        "# How many Vine reviews were 5 stars? How many non-Vine reviews were 5 stars?\n",
        "Non5Vine = df.filter((df[\"vine\"] == \"N\") & (df[\"star_rating\"] == 5)).count()\n",
        "print(f\"There are {Non5Vine} non-Vine 5 star reviews.\")"
      ],
      "execution_count": 13,
      "outputs": [
        {
          "output_type": "stream",
          "text": [
            "There are 1345146 non-Vine 5 star reviews.\n"
          ],
          "name": "stdout"
        }
      ]
    },
    {
      "cell_type": "code",
      "metadata": {
        "colab": {
          "base_uri": "https://localhost:8080/"
        },
        "id": "-HJ5blNai0ky",
        "outputId": "5f23fe9f-de53-4fe3-e682-3db696141133"
      },
      "source": [
        "# What percentage of Vine reviews were 5 stars? What percentage of non-Vine reviews were 5 stars?\n",
        "NonVine5StarPer = Non5Vine/TotCount\n",
        "print(f\"The percentage of non-Vine 5 Star reviews is {NonVine5StarPer}%.\")"
      ],
      "execution_count": 14,
      "outputs": [
        {
          "output_type": "stream",
          "text": [
            "The percentage of non-Vine 5 Star reviews is 0.7964703318878028%.\n"
          ],
          "name": "stdout"
        }
      ]
    }
  ]
}